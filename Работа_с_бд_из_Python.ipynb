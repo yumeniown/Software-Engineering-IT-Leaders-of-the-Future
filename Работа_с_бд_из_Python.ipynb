{
  "nbformat": 4,
  "nbformat_minor": 0,
  "metadata": {
    "colab": {
      "provenance": [],
      "include_colab_link": true
    },
    "kernelspec": {
      "name": "python3",
      "display_name": "Python 3"
    },
    "language_info": {
      "name": "python"
    }
  },
  "cells": [
    {
      "cell_type": "markdown",
      "metadata": {
        "id": "view-in-github",
        "colab_type": "text"
      },
      "source": [
        "<a href=\"https://colab.research.google.com/github/yumeniown/Software-Engineering-IT-Leaders-of-the-Future/blob/main/%D0%A0%D0%B0%D0%B1%D0%BE%D1%82%D0%B0_%D1%81_%D0%B1%D0%B4_%D0%B8%D0%B7_Python.ipynb\" target=\"_parent\"><img src=\"https://colab.research.google.com/assets/colab-badge.svg\" alt=\"Open In Colab\"/></a>"
      ]
    },
    {
      "cell_type": "code",
      "source": [
        "import sqlite3"
      ],
      "metadata": {
        "id": "yMyKzxGKR3dE"
      },
      "execution_count": null,
      "outputs": []
    },
    {
      "cell_type": "code",
      "source": [
        "# Создаем подключение к базе данных (файл my_database.db будет создан)\n",
        "connection = sqlite3.connect('my_database.db')\n",
        "# connection.close()"
      ],
      "metadata": {
        "id": "UWPJRIxkR8P0"
      },
      "execution_count": null,
      "outputs": []
    },
    {
      "cell_type": "code",
      "source": [
        "type(connection)"
      ],
      "metadata": {
        "colab": {
          "base_uri": "https://localhost:8080/"
        },
        "id": "6swAOT3vSSX_",
        "outputId": "a3df1096-fafd-4a55-ee88-092c6ddca05a"
      },
      "execution_count": null,
      "outputs": [
        {
          "output_type": "execute_result",
          "data": {
            "text/plain": [
              "sqlite3.Connection"
            ]
          },
          "metadata": {},
          "execution_count": 3
        }
      ]
    },
    {
      "cell_type": "code",
      "source": [
        "cursor = connection.cursor()\n",
        "\n",
        "# Создаем таблицу Users\n",
        "cursor.execute('''\n",
        "CREATE TABLE IF NOT EXISTS Users (\n",
        "    id INTEGER PRIMARY KEY,\n",
        "    username TEXT NOT NULL,\n",
        "    email TEXT NOT NULL,\n",
        "    age INTEGER\n",
        ")\n",
        "''')\n",
        "\n",
        "# Сохраняем изменения и закрываем соединение\n",
        "connection.commit()"
      ],
      "metadata": {
        "id": "ApiGma3UVGap"
      },
      "execution_count": null,
      "outputs": []
    },
    {
      "cell_type": "code",
      "source": [
        "# Выбираем всех пользователей\n",
        "cursor.execute('SELECT * FROM Users')\n",
        "users = cursor.fetchall()\n",
        "\n",
        "# Выводим результаты\n",
        "for user in users:\n",
        "  print(user)\n"
      ],
      "metadata": {
        "id": "a5x_1XLWVR4M"
      },
      "execution_count": null,
      "outputs": []
    },
    {
      "cell_type": "code",
      "source": [
        "# Выполняем запрос к системной таблице sqlite_master\n",
        "cursor.execute(\"SELECT name FROM sqlite_master WHERE type='table';\")\n",
        "tables = cursor.fetchall()\n",
        "\n",
        "# Выводим названия всех таблиц\n",
        "for table in tables:\n",
        "    print(table[0])"
      ],
      "metadata": {
        "colab": {
          "base_uri": "https://localhost:8080/"
        },
        "id": "LDz8udhpXNuM",
        "outputId": "eadf7af2-d7ac-49f7-ac5f-2b28d7cae18d"
      },
      "execution_count": null,
      "outputs": [
        {
          "output_type": "stream",
          "name": "stdout",
          "text": [
            "Users\n"
          ]
        }
      ]
    },
    {
      "cell_type": "code",
      "source": [
        "# Выполняем запрос к системной таблице sqlite_master\n",
        "cursor.execute(\"SELECT name FROM sqlite_master\")\n",
        "tables = cursor.fetchall()\n",
        "\n",
        "# Выводим названия всех таблиц\n",
        "for table in tables:\n",
        "    print(table)"
      ],
      "metadata": {
        "colab": {
          "base_uri": "https://localhost:8080/"
        },
        "id": "A38745lhX-L0",
        "outputId": "f21014ee-c4c3-455a-986e-f91cff99c353"
      },
      "execution_count": null,
      "outputs": [
        {
          "output_type": "stream",
          "name": "stdout",
          "text": [
            "('Users',)\n"
          ]
        }
      ]
    },
    {
      "cell_type": "code",
      "source": [
        "# Получаем информацию о столбцах для указанной таблицы\n",
        "cursor.execute(\"PRAGMA table_info(Users)\")\n",
        "columns_info = cursor.fetchall()\n",
        "\n",
        "# Выводим названия столбцов\n",
        "columns = []\n",
        "for column_info in columns_info:\n",
        "    columns.append(column_info[1])\n",
        "\n",
        "print(columns)\n"
      ],
      "metadata": {
        "colab": {
          "base_uri": "https://localhost:8080/"
        },
        "id": "_7bIki67YI7h",
        "outputId": "f0901de7-3384-475c-f052-09b38b817801"
      },
      "execution_count": null,
      "outputs": [
        {
          "output_type": "stream",
          "name": "stdout",
          "text": [
            "['id', 'username', 'email', 'age']\n"
          ]
        }
      ]
    },
    {
      "cell_type": "code",
      "source": [
        "columns_info"
      ],
      "metadata": {
        "colab": {
          "base_uri": "https://localhost:8080/"
        },
        "id": "Qr8ZjhJMY9g0",
        "outputId": "822eb46a-de88-4fa5-9282-77ab4b7f4f3c"
      },
      "execution_count": null,
      "outputs": [
        {
          "output_type": "execute_result",
          "data": {
            "text/plain": [
              "[(0, 'id', 'INTEGER', 0, None, 0),\n",
              " (1, 'username', 'TEXT', 1, None, 0),\n",
              " (2, 'email', 'TEXT', 1, None, 0),\n",
              " (3, 'age', 'INTEGER', 0, None, 0)]"
            ]
          },
          "metadata": {},
          "execution_count": 17
        }
      ]
    },
    {
      "cell_type": "code",
      "source": [],
      "metadata": {
        "id": "ICIX66ktbnS7"
      },
      "execution_count": null,
      "outputs": []
    },
    {
      "cell_type": "code",
      "source": [
        "# Выбираем всех пользователей\n",
        "cursor.execute('SELECT * FROM Users')\n",
        "users = cursor.fetchall()\n",
        "\n",
        "# Выводим результаты\n",
        "for user in users:\n",
        "  print(user)\n"
      ],
      "metadata": {
        "id": "X7xBHRexbnWh"
      },
      "execution_count": null,
      "outputs": []
    },
    {
      "cell_type": "code",
      "source": [
        "# Добавляем нового пользователя\n",
        "cursor.execute('INSERT INTO Users (username, email, age) VALUES (?, ?, ?)', ('newuser', 'newuser@example.com', 28));"
      ],
      "metadata": {
        "colab": {
          "base_uri": "https://localhost:8080/"
        },
        "id": "Zavk4vG9ZZKc",
        "outputId": "a7da519f-da65-49ac-f72c-63fb5ab3f882"
      },
      "execution_count": null,
      "outputs": [
        {
          "output_type": "execute_result",
          "data": {
            "text/plain": [
              "<sqlite3.Cursor at 0x7f0a78f62dc0>"
            ]
          },
          "metadata": {},
          "execution_count": 19
        }
      ]
    },
    {
      "cell_type": "code",
      "source": [
        "# Выбираем всех пользователей\n",
        "cursor.execute('SELECT * FROM Users')\n",
        "users = cursor.fetchall()\n",
        "\n",
        "# Выводим результаты\n",
        "for user in users:\n",
        "  print(user)\n"
      ],
      "metadata": {
        "colab": {
          "base_uri": "https://localhost:8080/"
        },
        "id": "dcC9qam2biKB",
        "outputId": "93981e2f-9dbe-4c2f-8b2c-061a1f35a2c1"
      },
      "execution_count": null,
      "outputs": [
        {
          "output_type": "stream",
          "name": "stdout",
          "text": [
            "(None, 'newuser', 'newuser@example.com', 28)\n"
          ]
        }
      ]
    },
    {
      "cell_type": "code",
      "source": [
        "connection.close()"
      ],
      "metadata": {
        "id": "NokjhyClcH_t"
      },
      "execution_count": null,
      "outputs": []
    },
    {
      "cell_type": "code",
      "source": [
        "connection = sqlite3.connect('my_database.db')\n",
        "cursor = connection.cursor()"
      ],
      "metadata": {
        "id": "1Flzq6wRcOF3"
      },
      "execution_count": null,
      "outputs": []
    },
    {
      "cell_type": "code",
      "source": [
        "# Выбираем всех пользователей\n",
        "cursor.execute('SELECT * FROM Users')\n",
        "users = cursor.fetchall()\n",
        "\n",
        "# Выводим результаты\n",
        "for user in users:\n",
        "  print(user)\n"
      ],
      "metadata": {
        "colab": {
          "base_uri": "https://localhost:8080/",
          "height": 211
        },
        "id": "J0LpCD-LcOQm",
        "outputId": "ff2c6aff-91d5-4696-b0d9-1d75f55dfc8c"
      },
      "execution_count": null,
      "outputs": [
        {
          "output_type": "error",
          "ename": "DatabaseError",
          "evalue": "database disk image is malformed",
          "traceback": [
            "\u001b[0;31m---------------------------------------------------------------------------\u001b[0m",
            "\u001b[0;31mDatabaseError\u001b[0m                             Traceback (most recent call last)",
            "\u001b[0;32m<ipython-input-24-a55131df9dca>\u001b[0m in \u001b[0;36m<cell line: 2>\u001b[0;34m()\u001b[0m\n\u001b[1;32m      1\u001b[0m \u001b[0;31m# Выбираем всех пользователей\u001b[0m\u001b[0;34m\u001b[0m\u001b[0;34m\u001b[0m\u001b[0m\n\u001b[0;32m----> 2\u001b[0;31m \u001b[0mcursor\u001b[0m\u001b[0;34m.\u001b[0m\u001b[0mexecute\u001b[0m\u001b[0;34m(\u001b[0m\u001b[0;34m'SELECT * FROM Users'\u001b[0m\u001b[0;34m)\u001b[0m\u001b[0;34m\u001b[0m\u001b[0;34m\u001b[0m\u001b[0m\n\u001b[0m\u001b[1;32m      3\u001b[0m \u001b[0musers\u001b[0m \u001b[0;34m=\u001b[0m \u001b[0mcursor\u001b[0m\u001b[0;34m.\u001b[0m\u001b[0mfetchall\u001b[0m\u001b[0;34m(\u001b[0m\u001b[0;34m)\u001b[0m\u001b[0;34m\u001b[0m\u001b[0;34m\u001b[0m\u001b[0m\n\u001b[1;32m      4\u001b[0m \u001b[0;34m\u001b[0m\u001b[0m\n\u001b[1;32m      5\u001b[0m \u001b[0;31m# Выводим результаты\u001b[0m\u001b[0;34m\u001b[0m\u001b[0;34m\u001b[0m\u001b[0m\n",
            "\u001b[0;31mDatabaseError\u001b[0m: database disk image is malformed"
          ]
        }
      ]
    },
    {
      "cell_type": "code",
      "source": [
        "cursor.execute('DROP table if exists Users ')"
      ],
      "metadata": {
        "colab": {
          "base_uri": "https://localhost:8080/",
          "height": 141
        },
        "id": "5xFApvOydBXv",
        "outputId": "2d3cb874-7b0c-451c-aeb7-779ca3828dfd"
      },
      "execution_count": null,
      "outputs": [
        {
          "output_type": "error",
          "ename": "DatabaseError",
          "evalue": "database disk image is malformed",
          "traceback": [
            "\u001b[0;31m---------------------------------------------------------------------------\u001b[0m",
            "\u001b[0;31mDatabaseError\u001b[0m                             Traceback (most recent call last)",
            "\u001b[0;32m<ipython-input-27-27ba767d3323>\u001b[0m in \u001b[0;36m<cell line: 1>\u001b[0;34m()\u001b[0m\n\u001b[0;32m----> 1\u001b[0;31m \u001b[0mcursor\u001b[0m\u001b[0;34m.\u001b[0m\u001b[0mexecute\u001b[0m\u001b[0;34m(\u001b[0m\u001b[0;34m'DROP table if exists Users '\u001b[0m\u001b[0;34m)\u001b[0m\u001b[0;34m\u001b[0m\u001b[0;34m\u001b[0m\u001b[0m\n\u001b[0m",
            "\u001b[0;31mDatabaseError\u001b[0m: database disk image is malformed"
          ]
        }
      ]
    },
    {
      "cell_type": "code",
      "source": [],
      "metadata": {
        "id": "05ACd9J8dds8"
      },
      "execution_count": null,
      "outputs": []
    },
    {
      "cell_type": "code",
      "source": [
        "# Добавляем нового пользователя\n",
        "cursor.execute('INSERT INTO Users (username, email, age) VALUES (?, ?, ?)', ('newuser', 'newuser@example.com', 28));\n",
        "connection.commit()"
      ],
      "metadata": {
        "id": "1IXHr1wvbiNm"
      },
      "execution_count": null,
      "outputs": []
    },
    {
      "cell_type": "code",
      "source": [
        "# Выбираем всех пользователей\n",
        "cursor.execute('SELECT * FROM Users')\n",
        "users = cursor.fetchall()\n",
        "\n",
        "# Выводим результаты\n",
        "for user in users:\n",
        "  print(user)\n"
      ],
      "metadata": {
        "colab": {
          "base_uri": "https://localhost:8080/"
        },
        "id": "iMrdlGbEbu5V",
        "outputId": "791d21c7-b60d-4377-9561-c575b788075f"
      },
      "execution_count": null,
      "outputs": [
        {
          "output_type": "stream",
          "name": "stdout",
          "text": [
            "(1, 'newuser', 'newuser@example.com', 28)\n"
          ]
        }
      ]
    },
    {
      "cell_type": "code",
      "source": [],
      "metadata": {
        "id": "Cr4ybKVeemEe"
      },
      "execution_count": null,
      "outputs": []
    },
    {
      "cell_type": "code",
      "source": [
        "# SQL-запрос для вставки строки в таблицу Users\n",
        "sql_query = 'INSERT INTO Users (username, email, age) VALUES (?, ?, ?)'\n",
        "\n",
        "# Список кортежей с данными для вставки\n",
        "data_to_insert = [\n",
        "    ('user1', 'user1@example.com', 25),\n",
        "    ('user2', 'user2@example.com', 30),\n",
        "    ('user3', 'user3@example.com', 22)\n",
        "]\n",
        "\n",
        "# Вставляем несколько строк сразу\n",
        "cursor.executemany(sql_query, data_to_insert)\n",
        "\n",
        "# Сохраняем изменения\n",
        "connection.commit()\n"
      ],
      "metadata": {
        "id": "_spMkzx0emNn"
      },
      "execution_count": null,
      "outputs": []
    },
    {
      "cell_type": "code",
      "source": [
        "# Выбираем всех пользователей\n",
        "cursor.execute('SELECT * FROM Users')\n",
        "users = cursor.fetchall()\n",
        "\n",
        "# Выводим результаты\n",
        "for user in users:\n",
        "  print(user)\n"
      ],
      "metadata": {
        "colab": {
          "base_uri": "https://localhost:8080/"
        },
        "id": "kpS6RPOTbvXd",
        "outputId": "d7c56886-8a71-4aba-f3fe-58e8bf76d71d"
      },
      "execution_count": null,
      "outputs": [
        {
          "output_type": "stream",
          "name": "stdout",
          "text": [
            "(1, 'newuser', 'newuser@example.com', 28)\n",
            "(2, 'user1', 'user1@example.com', 25)\n",
            "(3, 'user2', 'user2@example.com', 30)\n",
            "(4, 'user3', 'user3@example.com', 22)\n"
          ]
        }
      ]
    },
    {
      "cell_type": "code",
      "source": [],
      "metadata": {
        "id": "izmdbk3HgHlH"
      },
      "execution_count": null,
      "outputs": []
    },
    {
      "cell_type": "code",
      "source": [
        "# Обновляем возраст пользователя \"newuser\"\n",
        "cursor.execute('UPDATE Users SET age = ? WHERE username = ?', (29, 'newuser'))\n",
        "\n",
        "# Сохраняем изменения\n",
        "connection.commit()\n"
      ],
      "metadata": {
        "id": "_xeEVz-meuuw"
      },
      "execution_count": null,
      "outputs": []
    },
    {
      "cell_type": "code",
      "source": [
        "# Выбираем всех пользователей\n",
        "cursor.execute('SELECT * FROM Users')\n",
        "users = cursor.fetchall()\n",
        "\n",
        "# Выводим результаты\n",
        "for user in users:\n",
        "  print(user)\n"
      ],
      "metadata": {
        "colab": {
          "base_uri": "https://localhost:8080/"
        },
        "id": "rpMQ870qgMBb",
        "outputId": "c737626a-1763-4c90-b867-fe4fc5f1e22c"
      },
      "execution_count": null,
      "outputs": [
        {
          "output_type": "stream",
          "name": "stdout",
          "text": [
            "(1, 'newuser', 'newuser@example.com', 29)\n",
            "(2, 'user1', 'user1@example.com', 25)\n",
            "(3, 'user2', 'user2@example.com', 30)\n",
            "(4, 'user3', 'user3@example.com', 22)\n"
          ]
        }
      ]
    },
    {
      "cell_type": "code",
      "source": [
        "# Обновляем возраст пользователя \"newuser\"\n",
        "cursor.execute('UPDATE Users SET age = ?, email = ? WHERE username = ?', (59, 'newuser@inn.ru', 'newuser'))\n",
        "\n",
        "# Сохраняем изменения\n",
        "connection.commit()\n"
      ],
      "metadata": {
        "id": "RfxDwt4ogNuX"
      },
      "execution_count": null,
      "outputs": []
    },
    {
      "cell_type": "code",
      "source": [
        "# Выбираем всех пользователей\n",
        "cursor.execute('SELECT * FROM Users')\n",
        "users = cursor.fetchall()\n",
        "\n",
        "# Выводим результаты\n",
        "for user in users:\n",
        "  print(user)\n"
      ],
      "metadata": {
        "colab": {
          "base_uri": "https://localhost:8080/"
        },
        "id": "qTh6SsxqgfsW",
        "outputId": "8c6ac49b-4a94-4608-d951-ea5a039cd172"
      },
      "execution_count": null,
      "outputs": [
        {
          "output_type": "stream",
          "name": "stdout",
          "text": [
            "(1, 'newuser', 'newuser@inn.ru', 59)\n",
            "(2, 'user1', 'user1@example.com', 25)\n",
            "(3, 'user2', 'user2@example.com', 30)\n",
            "(4, 'user3', 'user3@example.com', 22)\n"
          ]
        }
      ]
    },
    {
      "cell_type": "code",
      "source": [],
      "metadata": {
        "id": "5Re63OXOiAd5"
      },
      "execution_count": null,
      "outputs": []
    },
    {
      "cell_type": "code",
      "source": [
        "\n",
        "cursor.execute('DELETE FROM Users WHERE username = ?', ('newuser',))\n",
        "\n",
        "# Сохраняем изменения и закрываем соединение\n",
        "connection.commit()"
      ],
      "metadata": {
        "id": "OYV-9iKliA6L"
      },
      "execution_count": null,
      "outputs": []
    },
    {
      "cell_type": "code",
      "source": [
        "# Выбираем всех пользователей\n",
        "cursor.execute('SELECT * FROM Users')\n",
        "users = cursor.fetchall()\n",
        "\n",
        "# Выводим результаты\n",
        "for user in users:\n",
        "  print(user)\n"
      ],
      "metadata": {
        "colab": {
          "base_uri": "https://localhost:8080/"
        },
        "id": "8ShEklDjgg7W",
        "outputId": "bfbeed5a-737e-4bf0-d410-b333f06fac84"
      },
      "execution_count": null,
      "outputs": [
        {
          "output_type": "stream",
          "name": "stdout",
          "text": [
            "(2, 'user1', 'user1@example.com', 25)\n",
            "(3, 'user2', 'user2@example.com', 30)\n",
            "(4, 'user3', 'user3@example.com', 22)\n"
          ]
        }
      ]
    },
    {
      "cell_type": "code",
      "source": [],
      "metadata": {
        "id": "ZLyOJ_wnjDLf"
      },
      "execution_count": null,
      "outputs": []
    },
    {
      "cell_type": "code",
      "source": [
        "# Выбираем имена и возраст пользователей старше 25 лет\n",
        "cursor.execute('SELECT username, age FROM Users WHERE age >= ?', (25,))\n",
        "results = cursor.fetchall()\n",
        "\n",
        "for row in results:\n",
        "  print(row)"
      ],
      "metadata": {
        "colab": {
          "base_uri": "https://localhost:8080/"
        },
        "id": "3f-udSctiMxx",
        "outputId": "090f2aee-3bf8-413c-9ef8-4933877958d6"
      },
      "execution_count": null,
      "outputs": [
        {
          "output_type": "stream",
          "name": "stdout",
          "text": [
            "('user1', 25)\n",
            "('user2', 30)\n"
          ]
        }
      ]
    },
    {
      "cell_type": "code",
      "source": [
        "c = (25 - 5,)"
      ],
      "metadata": {
        "id": "O69dhIh2jD53"
      },
      "execution_count": null,
      "outputs": []
    },
    {
      "cell_type": "code",
      "source": [
        "type(c)"
      ],
      "metadata": {
        "colab": {
          "base_uri": "https://localhost:8080/"
        },
        "id": "uy6w_pb5jQga",
        "outputId": "8b2d1f59-807f-481a-ce00-21270352d8e9"
      },
      "execution_count": null,
      "outputs": [
        {
          "output_type": "execute_result",
          "data": {
            "text/plain": [
              "tuple"
            ]
          },
          "metadata": {},
          "execution_count": 51
        }
      ]
    },
    {
      "cell_type": "code",
      "source": [
        "c"
      ],
      "metadata": {
        "colab": {
          "base_uri": "https://localhost:8080/"
        },
        "id": "BGR3H-YMjT1V",
        "outputId": "ca272807-0e27-4e70-ee0c-4efa8d27ddcb"
      },
      "execution_count": null,
      "outputs": [
        {
          "output_type": "execute_result",
          "data": {
            "text/plain": [
              "(20,)"
            ]
          },
          "metadata": {},
          "execution_count": 52
        }
      ]
    },
    {
      "cell_type": "code",
      "source": [],
      "metadata": {
        "id": "4rMSzdLJjqgL"
      },
      "execution_count": null,
      "outputs": []
    },
    {
      "cell_type": "code",
      "source": [
        "# Выбираем и сортируем пользователей по возрасту по убыванию\n",
        "cursor.execute('SELECT username, age FROM Users ORDER BY age DESC')\n",
        "results = cursor.fetchall()\n",
        "\n",
        "for row in results:\n",
        "  print(row)"
      ],
      "metadata": {
        "colab": {
          "base_uri": "https://localhost:8080/"
        },
        "id": "FXa5WuwfjfsQ",
        "outputId": "49cf9801-a29f-4efa-de2e-872e6af14b4d"
      },
      "execution_count": null,
      "outputs": [
        {
          "output_type": "stream",
          "name": "stdout",
          "text": [
            "('user2', 30)\n",
            "('user1', 25)\n",
            "('user3', 22)\n"
          ]
        }
      ]
    },
    {
      "cell_type": "code",
      "source": [
        "# Выбираем и сортируем пользователей по возрасту по убыванию\n",
        "cursor.execute('SELECT username, age FROM Users ORDER BY age ASC')\n",
        "results = cursor.fetchall()\n",
        "\n",
        "for row in results:\n",
        "  print(row)"
      ],
      "metadata": {
        "colab": {
          "base_uri": "https://localhost:8080/"
        },
        "id": "TnZRKIK0j8An",
        "outputId": "5b6a316c-3dfc-4566-d3f1-a16fc060594a"
      },
      "execution_count": null,
      "outputs": [
        {
          "output_type": "stream",
          "name": "stdout",
          "text": [
            "('user3', 22)\n",
            "('user1', 25)\n",
            "('user2', 30)\n"
          ]
        }
      ]
    },
    {
      "cell_type": "code",
      "source": [
        "# Выбираем и сортируем пользователей по возрасту по убыванию\n",
        "cursor.execute('SELECT username, age FROM Users ORDER BY age')\n",
        "results = cursor.fetchall()\n",
        "\n",
        "for row in results:\n",
        "  print(row)"
      ],
      "metadata": {
        "colab": {
          "base_uri": "https://localhost:8080/"
        },
        "id": "GPtyLZfCj-qB",
        "outputId": "8dac1088-3e42-4c07-d16e-63358c1393ff"
      },
      "execution_count": null,
      "outputs": [
        {
          "output_type": "stream",
          "name": "stdout",
          "text": [
            "('user3', 22)\n",
            "('user1', 25)\n",
            "('user2', 30)\n"
          ]
        }
      ]
    },
    {
      "cell_type": "code",
      "source": [
        "# Выбираем и сортируем пользователей по возрасту по убыванию\n",
        "cursor.execute('SELECT username, age FROM Users ORDER BY username DESC')\n",
        "results = cursor.fetchall()\n",
        "\n",
        "for row in results:\n",
        "  print(row)"
      ],
      "metadata": {
        "colab": {
          "base_uri": "https://localhost:8080/"
        },
        "id": "cGcFW-smkAXT",
        "outputId": "f450e071-e4bc-47ca-e916-905bc97f2e13"
      },
      "execution_count": null,
      "outputs": [
        {
          "output_type": "stream",
          "name": "stdout",
          "text": [
            "('user3', 22)\n",
            "('user2', 30)\n",
            "('user1', 25)\n"
          ]
        }
      ]
    },
    {
      "cell_type": "code",
      "source": [],
      "metadata": {
        "id": "EYeWyzsEkKsF"
      },
      "execution_count": null,
      "outputs": []
    },
    {
      "cell_type": "code",
      "source": [],
      "metadata": {
        "id": "rQS53q1VjGyt"
      },
      "execution_count": null,
      "outputs": []
    },
    {
      "cell_type": "code",
      "source": [],
      "metadata": {
        "id": "Y0Re8aITjG2N"
      },
      "execution_count": null,
      "outputs": []
    },
    {
      "cell_type": "markdown",
      "source": [
        "### Продолжение лекции"
      ],
      "metadata": {
        "id": "ryWsig_gjHvd"
      }
    },
    {
      "cell_type": "code",
      "source": [
        "import sqlite3"
      ],
      "metadata": {
        "id": "2Luc3HDLjMXN"
      },
      "execution_count": null,
      "outputs": []
    },
    {
      "cell_type": "code",
      "source": [
        "connection = sqlite3.connect('my_database.db')"
      ],
      "metadata": {
        "id": "cymbQDcLjR-d"
      },
      "execution_count": null,
      "outputs": []
    },
    {
      "cell_type": "code",
      "source": [
        "cursor = connection.cursor()\n",
        "\n",
        "# Создаем таблицу Users\n",
        "cursor.execute('''\n",
        "CREATE TABLE IF NOT EXISTS Users (\n",
        "    id INTEGER PRIMARY KEY,\n",
        "    username TEXT NOT NULL,\n",
        "    email TEXT NOT NULL,\n",
        "    age INTEGER\n",
        ")\n",
        "''')\n",
        "\n",
        "# Сохраняем изменения и закрываем соединение\n",
        "connection.commit()"
      ],
      "metadata": {
        "id": "VwQtc1-xj0BM"
      },
      "execution_count": null,
      "outputs": []
    },
    {
      "cell_type": "code",
      "source": [
        "# SQL-запрос для вставки строки в таблицу Users\n",
        "sql_query = 'INSERT INTO Users (username, email, age) VALUES (?, ?, ?)'\n",
        "\n",
        "# Список кортежей с данными для вставки\n",
        "data_to_insert = [\n",
        "    ('user1', 'user1@example.com', 25),\n",
        "    ('user2', 'user2@example.com', 30),\n",
        "    ('user3', 'user3@example.com', 22)\n",
        "]\n",
        "\n",
        "# Вставляем несколько строк сразу\n",
        "cursor.executemany(sql_query, data_to_insert)\n",
        "\n",
        "# Сохраняем изменения\n",
        "connection.commit()\n"
      ],
      "metadata": {
        "id": "_7Ex7pmXj263"
      },
      "execution_count": null,
      "outputs": []
    },
    {
      "cell_type": "code",
      "source": [
        "# Выбираем всех пользователей\n",
        "cursor.execute('SELECT * FROM Users')\n",
        "users = cursor.fetchall()\n",
        "\n",
        "users\n"
      ],
      "metadata": {
        "colab": {
          "base_uri": "https://localhost:8080/"
        },
        "id": "pRGI7Z2Xj4E1",
        "outputId": "78167f8b-9b08-4f09-9218-f1eeb6f50377"
      },
      "execution_count": null,
      "outputs": [
        {
          "output_type": "execute_result",
          "data": {
            "text/plain": [
              "[(1, 'user1', 'user1@example.com', 25),\n",
              " (2, 'user2', 'user2@example.com', 30),\n",
              " (3, 'user3', 'user3@example.com', 22)]"
            ]
          },
          "metadata": {},
          "execution_count": 5
        }
      ]
    },
    {
      "cell_type": "code",
      "source": [
        "# Выбираем всех пользователей\n",
        "cursor.execute('SELECT * FROM Users')\n",
        "users = cursor.fetchone()\n",
        "\n",
        "users\n"
      ],
      "metadata": {
        "colab": {
          "base_uri": "https://localhost:8080/"
        },
        "id": "A1RBTeHTkBIa",
        "outputId": "58f3ebe5-4a41-4416-8d69-b1c53b4eb5cb"
      },
      "execution_count": null,
      "outputs": [
        {
          "output_type": "execute_result",
          "data": {
            "text/plain": [
              "(1, 'user1', 'user1@example.com', 25)"
            ]
          },
          "metadata": {},
          "execution_count": 16
        }
      ]
    },
    {
      "cell_type": "code",
      "source": [
        "users = cursor.fetchone()\n",
        "\n",
        "users"
      ],
      "metadata": {
        "id": "v9pyfr8ekIrs"
      },
      "execution_count": null,
      "outputs": []
    },
    {
      "cell_type": "code",
      "source": [
        "# Выбираем всех пользователей\n",
        "cursor.execute('SELECT * FROM Users')\n",
        "for i in range(3):\n",
        "    print(cursor.fetchone())\n",
        "\n",
        "# users\n"
      ],
      "metadata": {
        "colab": {
          "base_uri": "https://localhost:8080/"
        },
        "id": "-NmJPlYlkxqc",
        "outputId": "788be4fe-4744-4c3d-dfba-478e47291adf"
      },
      "execution_count": null,
      "outputs": [
        {
          "output_type": "stream",
          "name": "stdout",
          "text": [
            "(1, 'user1', 'user1@example.com', 25)\n",
            "(2, 'user2', 'user2@example.com', 30)\n",
            "(3, 'user3', 'user3@example.com', 22)\n"
          ]
        }
      ]
    },
    {
      "cell_type": "code",
      "source": [
        "list(cursor.execute('SELECT * FROM Users'))"
      ],
      "metadata": {
        "colab": {
          "base_uri": "https://localhost:8080/"
        },
        "id": "YlHAl8ePlJc0",
        "outputId": "c93c792e-c238-4515-c70b-c6d252703291"
      },
      "execution_count": null,
      "outputs": [
        {
          "output_type": "execute_result",
          "data": {
            "text/plain": [
              "[(1, 'user1', 'user1@example.com', 25),\n",
              " (2, 'user2', 'user2@example.com', 30),\n",
              " (3, 'user3', 'user3@example.com', 22)]"
            ]
          },
          "metadata": {},
          "execution_count": 14
        }
      ]
    },
    {
      "cell_type": "code",
      "source": [],
      "metadata": {
        "id": "gkITXIXelKAW"
      },
      "execution_count": null,
      "outputs": []
    },
    {
      "cell_type": "code",
      "source": [
        "# SQL-запрос для вставки строки в таблицу Users\n",
        "sql_query = 'INSERT INTO Users (username, email, age) VALUES (?, ?, ?)'\n",
        "\n",
        "# Список кортежей с данными для вставки\n",
        "data_to_insert = [\n",
        "    ('user4', 'user4@example.com', 25),\n",
        "    ('user5', 'user5@example.com', 30),\n",
        "    ('user6', 'user6@example.com', 22)\n",
        "]\n",
        "\n",
        "# Вставляем несколько строк сразу\n",
        "cursor.executemany(sql_query, data_to_insert)\n",
        "\n",
        "# Сохраняем изменения\n",
        "connection.commit()\n"
      ],
      "metadata": {
        "id": "EFJ4vJaJmYYa"
      },
      "execution_count": null,
      "outputs": []
    },
    {
      "cell_type": "code",
      "source": [
        "# Выбираем всех пользователей\n",
        "cursor.execute('SELECT * FROM Users')\n",
        "users = cursor.fetchall()\n",
        "\n",
        "users\n"
      ],
      "metadata": {
        "colab": {
          "base_uri": "https://localhost:8080/"
        },
        "id": "UahVn1PFmbz4",
        "outputId": "7b49a96d-a49f-4c18-fbda-0adcc90dcabc"
      },
      "execution_count": null,
      "outputs": [
        {
          "output_type": "execute_result",
          "data": {
            "text/plain": [
              "[(1, 'user1', 'user1@example.com', 25),\n",
              " (2, 'user2', 'user2@example.com', 30),\n",
              " (3, 'user3', 'user3@example.com', 22),\n",
              " (4, 'user4', 'user4@example.com', 25),\n",
              " (5, 'user5', 'user5@example.com', 30),\n",
              " (6, 'user6', 'user6@example.com', 22)]"
            ]
          },
          "metadata": {},
          "execution_count": 21
        }
      ]
    },
    {
      "cell_type": "code",
      "source": [
        "# Выбираем всех пользователей\n",
        "cursor.execute('SELECT * FROM Users')\n",
        "users = cursor.fetchmany(2)\n",
        "\n",
        "users\n"
      ],
      "metadata": {
        "colab": {
          "base_uri": "https://localhost:8080/"
        },
        "id": "B_L75bBbmjBL",
        "outputId": "8f4617da-78e8-421e-ff8c-4d0fa0d20391"
      },
      "execution_count": null,
      "outputs": [
        {
          "output_type": "execute_result",
          "data": {
            "text/plain": [
              "[(1, 'user1', 'user1@example.com', 25), (2, 'user2', 'user2@example.com', 30)]"
            ]
          },
          "metadata": {},
          "execution_count": 22
        }
      ]
    },
    {
      "cell_type": "code",
      "source": [
        "users = cursor.fetchmany(3)\n",
        "\n",
        "users"
      ],
      "metadata": {
        "colab": {
          "base_uri": "https://localhost:8080/"
        },
        "id": "iv_mJt3UmoNt",
        "outputId": "47583599-7dc6-442f-9ee3-2c3b5f3c86d0"
      },
      "execution_count": null,
      "outputs": [
        {
          "output_type": "execute_result",
          "data": {
            "text/plain": [
              "[(3, 'user3', 'user3@example.com', 22),\n",
              " (4, 'user4', 'user4@example.com', 25),\n",
              " (5, 'user5', 'user5@example.com', 30)]"
            ]
          },
          "metadata": {},
          "execution_count": 23
        }
      ]
    },
    {
      "cell_type": "code",
      "source": [
        "users = cursor.fetchmany(2)\n",
        "\n",
        "users"
      ],
      "metadata": {
        "colab": {
          "base_uri": "https://localhost:8080/"
        },
        "id": "yorI4FY5mtXf",
        "outputId": "30dd57e1-6149-4c72-861b-e7841f1969b7"
      },
      "execution_count": null,
      "outputs": [
        {
          "output_type": "execute_result",
          "data": {
            "text/plain": [
              "[(6, 'user6', 'user6@example.com', 22)]"
            ]
          },
          "metadata": {},
          "execution_count": 24
        }
      ]
    },
    {
      "cell_type": "code",
      "source": [
        "# Выбираем всех пользователей\n",
        "cursor.execute('SELECT * FROM Users')\n",
        "users = cursor.fetchmany()\n",
        "\n",
        "users\n"
      ],
      "metadata": {
        "colab": {
          "base_uri": "https://localhost:8080/"
        },
        "id": "TPuDV2V1mvte",
        "outputId": "1e068a58-93b0-4d74-fb99-9d2c9689ce0b"
      },
      "execution_count": null,
      "outputs": [
        {
          "output_type": "execute_result",
          "data": {
            "text/plain": [
              "[(1, 'user1', 'user1@example.com', 25)]"
            ]
          },
          "metadata": {},
          "execution_count": 25
        }
      ]
    },
    {
      "cell_type": "code",
      "source": [
        "# Выполняем SQL-запрос\n",
        "cursor.execute('SELECT * FROM Users')\n",
        "\n",
        "# Перемещаем курсор на две строки вперед относительно текущей позиции\n",
        "cursor.scroll(2, mode='relative')\n",
        "\n",
        "# Извлекаем следующую строку после перемещения курсора\n",
        "row = cursor.fetchone()\n",
        "print(row)"
      ],
      "metadata": {
        "colab": {
          "base_uri": "https://localhost:8080/",
          "height": 216
        },
        "id": "g4qebwtvm4Rr",
        "outputId": "d20a8625-7016-4153-faf4-f5d74a349620"
      },
      "execution_count": null,
      "outputs": [
        {
          "output_type": "error",
          "ename": "AttributeError",
          "evalue": "'sqlite3.Cursor' object has no attribute 'scroll'",
          "traceback": [
            "\u001b[0;31m---------------------------------------------------------------------------\u001b[0m",
            "\u001b[0;31mAttributeError\u001b[0m                            Traceback (most recent call last)",
            "\u001b[0;32m<ipython-input-26-3726ccc2fc9e>\u001b[0m in \u001b[0;36m<cell line: 5>\u001b[0;34m()\u001b[0m\n\u001b[1;32m      3\u001b[0m \u001b[0;34m\u001b[0m\u001b[0m\n\u001b[1;32m      4\u001b[0m \u001b[0;31m# Перемещаем курсор на две строки вперед относительно текущей позиции\u001b[0m\u001b[0;34m\u001b[0m\u001b[0;34m\u001b[0m\u001b[0m\n\u001b[0;32m----> 5\u001b[0;31m \u001b[0mcursor\u001b[0m\u001b[0;34m.\u001b[0m\u001b[0mscroll\u001b[0m\u001b[0;34m(\u001b[0m\u001b[0;36m2\u001b[0m\u001b[0;34m,\u001b[0m \u001b[0mmode\u001b[0m\u001b[0;34m=\u001b[0m\u001b[0;34m'relative'\u001b[0m\u001b[0;34m)\u001b[0m\u001b[0;34m\u001b[0m\u001b[0;34m\u001b[0m\u001b[0m\n\u001b[0m\u001b[1;32m      6\u001b[0m \u001b[0;34m\u001b[0m\u001b[0m\n\u001b[1;32m      7\u001b[0m \u001b[0;31m# Извлекаем следующую строку после перемещения курсора\u001b[0m\u001b[0;34m\u001b[0m\u001b[0;34m\u001b[0m\u001b[0m\n",
            "\u001b[0;31mAttributeError\u001b[0m: 'sqlite3.Cursor' object has no attribute 'scroll'"
          ]
        }
      ]
    },
    {
      "cell_type": "code",
      "source": [
        "-- Создаем таблицу users:\n",
        "CREATE TABLE users (\n",
        "username VARCHAR(50),\n",
        "password VARCHAR(50),\n",
        "status VARCHAR(10));\n",
        "\n",
        "-- Создаем таблицу users_profile:\n",
        "CREATE TABLE users_profile (\n",
        "username VARCHAR(50),\n",
        "name VARCHAR(50),\n",
        "address VARCHAR(50),\n",
        "email VARCHAR(50));\n",
        "\n",
        "\n",
        "INSERT INTO users values\n",
        "('admin' , '7856', 'Active'),\n",
        "('staff' , '90802', 'Active'),\n",
        "('manager' , '35462', 'Inactive');\n",
        "\n",
        "INSERT INTO users_profile values\n",
        "('admin', 'Administrator' , 'Dhanmondi', 'admin@test.com' ) ,\n",
        "('staff', 'Jakir Nayek' , 'Mirpur', 'zakir@test.com' ),\n",
        "('manager', 'Mehr Afroz' , 'Eskaton', 'mehr@test.com' );\n",
        "\n",
        "\n",
        "\n",
        "\n",
        "\n",
        "SELECT * FROM users;\n",
        "\n",
        "SELECT * FROM users_profile;\n",
        "\n",
        "WITH cte_users_profile AS\n",
        "(\n",
        "\tSELECT *\n",
        "  \tFROM users_profile\n",
        "  \tWHERE username = 'staff'\n",
        ")\n",
        "SELECT * FROM cte_users_profile;\n",
        "\n",
        "SELECT * FROM cte_users_profile;\n",
        "\n",
        "\n",
        "-- в cte считаем активных и неактивных\n",
        "WITH count_user_status AS\n",
        "(\n",
        "\tSELECT\n",
        "  \t\tstatus,\n",
        "  \t\tCOUNT(*) AS cnt\n",
        "  \tFROM users\n",
        "  \tGROUP BY status\n",
        ")\n",
        "SELECT cnt\n",
        "FROM count_user_status\n",
        "WHERE LOWER(status) = 'active';\n",
        "\n",
        "\n",
        "-- выбрать всю информацию о пользователях у которых пароль из 5 цифр\n",
        "WITH username_pass_5 AS\n",
        "(\n",
        " \tSELECT\n",
        "  \t\tusername\n",
        "  \tFROM users\n",
        "  \tWHERE LENGTH(password) = 5\n",
        ")\n",
        "SELECT up.*\n",
        "FROM users_profile AS up\n",
        "--\n",
        "JOIN username_pass_5 AS u\n",
        "\tON up.username = u.username\n",
        "\n",
        "\n",
        "\n",
        "SELECT *\n",
        "FROM users_profile AS up\n",
        "--\n",
        "JOIN users AS u\n",
        "\tON up.username = u.username\n",
        "\n",
        "\n",
        " --   WITH RECURSIVE\n",
        "\n",
        "-- Создаем таблицу employees:\n",
        "CREATE TABLE employees (\n",
        "    employee_id INT,\n",
        "    first_name VARCHAR(50),\n",
        "    last_name VARCHAR(50),\n",
        "    department_id INT,\n",
        "    birthdate DATE\n",
        ");\n",
        "-- Создаем таблицу departments:\n",
        "CREATE TABLE departments (\n",
        "    department_id INT,\n",
        "    department_name VARCHAR(50)\n",
        ");\n",
        "\n",
        "\n",
        "\n",
        "INSERT INTO departments (department_id, department_name)\n",
        "VALUES\n",
        "    (1, 'IT'),\n",
        "    (2, 'HR'),\n",
        "    (3, 'Sales');\n",
        "\n",
        "INSERT INTO employees (employee_id, first_name, last_name, department_id, birthdate)\n",
        "VALUES\n",
        "    (1, 'John', 'Doe', 1, '1990-05-15'),\n",
        "    (2, 'Jane', 'Smith', 1, '1985-03-22'),\n",
        "    (3, 'Michael', 'Johnson', 2, '1992-08-10'),\n",
        "    (4, 'Emily', 'Brown', 2, '1988-11-30'),\n",
        "    (5, 'David', 'Lee', 3, '1995-07-05');\n",
        "\n",
        "\n",
        "\n",
        "-- вывести информацию о сотрудниках из HR\n",
        "SELECT\n",
        "\te.*\n",
        "FROM employees AS e\n",
        "JOIN departments AS d\n",
        "\tON e.department_id = d.department_id\n",
        "WHERE d.department_name = 'HR'\n",
        "\n",
        "\n",
        "SELECT\n",
        "\te.*\n",
        "FROM employees AS e\n",
        "WHERE department_id IN (SELECT department_id\n",
        "                        FROM departments\n",
        "                        WHERE department_name IN ('HR', 'IT'))\n",
        "\n",
        "\n",
        "SELECT\n",
        "\t*\n",
        "FROM employees AS e\n",
        "JOIN departments AS d\n",
        "\tON e.department_id = d.department_id\n",
        "-- JOIN departments AS d2\n",
        "--\tON e.department_id = d2.department_id\n",
        "\n",
        "\n",
        "-- EXISTS\n",
        "SELECT * FROM employees WHERE first_name = 'John'\n",
        "SELECT * FROM employees WHERE first_name = 'Jofghjkhn'\n",
        "\n",
        "SELECt EXISTS (SELECT * FROM employees WHERE first_name = 'John');\n",
        "SELECt EXISTS (SELECT * FROM employees WHERE first_name = 'Jofghjkhn');\n",
        "\n",
        "\n",
        "INSERT INTO employees (employee_id, first_name, last_name, department_id, birthdate)\n",
        "VALUES\n",
        "    (6, 'Helen', 'Doe', 8, '1990-05-15'),\n",
        "    (7, 'Tom', 'Smith', 9, '1985-03-22');\n",
        "\n",
        "-- вывести сотрудников, у которых есть департамент\n",
        "SELECT *\n",
        "FROM employees\n",
        "WHERE department_id IN (select department_id FROM departments)\n",
        "\n",
        "SELECT *\n",
        "FROM employees AS e\n",
        "WHERE EXISTS (select *\n",
        "              FROM departments AS d\n",
        "              WHERE d.department_id = e.department_id)\n",
        "\n",
        "\n",
        "SELECT\n",
        "\t*\n",
        "FROM employees AS e\n",
        "JOIN departments AS d\n",
        "\tON e.department_id = d.department_id\n",
        "\n",
        "\n",
        "\n",
        "\n",
        "\n",
        "\n",
        "\n"
      ],
      "metadata": {
        "id": "9ySbCGp2n7Hl"
      },
      "execution_count": null,
      "outputs": []
    }
  ]
}